{
 "cells": [
  {
   "cell_type": "markdown",
   "metadata": {},
   "source": [
    "# Exploring the Recent Data (dates after January 2018)\n",
    "\n",
    "The complete dataset kept on crashing my laptop, so I cut down the dataset to dates after January 2018 (including). \n",
    "\n",
    "## Setup"
   ]
  },
  {
   "cell_type": "code",
   "execution_count": null,
   "metadata": {},
   "outputs": [],
   "source": [
    "# --- Configture Notebook ------\n",
    "# show all outputs of cell\n",
    "from IPython.core.interactiveshell import InteractiveShell\n",
    "\n",
    "InteractiveShell.ast_node_interactivity = \"all\"\n",
    "\n",
    "import black\n",
    "import jupyter_black\n",
    "\n",
    "jupyter_black.load(\n",
    "    lab=True,\n",
    "    line_length=100,\n",
    "    verbosity=\"DEBUG\",\n",
    "    target_version=black.TargetVersion.PY310,\n",
    ")\n",
    "\n",
    "# enable automatic reloading\n",
    "%load_ext autoreload\n",
    "%autoreload 2\n",
    "\n",
    "from pathlib import Path\n",
    "\n",
    "from pandas.core.base import PandasObject\n",
    "from tends.utils import display_fully\n",
    "\n",
    "PandasObject.display_fully = display_fully\n",
    "\n",
    "DATAFOLDER = Path().cwd().parent / \"data\""
   ]
  },
  {
   "cell_type": "code",
   "execution_count": null,
   "metadata": {},
   "outputs": [],
   "source": [
    "import pandas as pd\n",
    "import plotly.express as px"
   ]
  },
  {
   "cell_type": "code",
   "execution_count": null,
   "metadata": {},
   "outputs": [],
   "source": [
    "df = pd.read_csv(DATAFOLDER / \"raw\" / \"espeni_recent.csv\")\n",
    "df.head()\n",
    "\n",
    "df.shape"
   ]
  },
  {
   "cell_type": "code",
   "execution_count": null,
   "metadata": {},
   "outputs": [],
   "source": [
    "to_rename = {\n",
    "    \"POWER_ESPENI_MW\": \"total_demand\",\n",
    "    \"POWER_ELEXM_CCGT_MW\": \"gen_combined_gas\",\n",
    "    \"POWER_ELEXM_OIL_MW\": \"gen_oil\",\n",
    "    \"POWER_ELEXM_COAL_MW\": \"gen_coal\",\n",
    "    \"POWER_ELEXM_NUCLEAR_MW\": \"gen_nuclear\",\n",
    "    \"POWER_ELEXM_WIND_MW\": \"gen_wind\",\n",
    "    \"POWER_ELEXM_PS_MW\": \"gen_pumped\",\n",
    "    \"POWER_ELEXM_NPSHYD_MW\": \"gen_non_pumped\",\n",
    "    \"POWER_ELEXM_OCGT_MW\": \"gen_open_cycle_gas\",\n",
    "    \"POWER_ELEXM_OTHER_POSTCALC_MW\": \"gen_other\",\n",
    "    \"POWER_ELEXM_BIOMASS_POSTCALC_MW\": \"gen_biomass\",\n",
    "    \"POWER_NGEM_EMBEDDED_SOLAR_GENERATION_MW\": \"gen_solar\",\n",
    "    \"POWER_NGEM_EMBEDDED_WIND_GENERATION_MW\": \"gen_embedded_wind\",\n",
    "    \"POWER_NGEM_BRIDNET_FLOW_MW\": \"gen_bridnet\",\n",
    "}\n",
    "\n",
    "df = df.rename(columns=to_rename)\n",
    "df.columns = [c.lower() for c in df.columns]\n",
    "df.head()"
   ]
  },
  {
   "cell_type": "code",
   "execution_count": null,
   "metadata": {},
   "outputs": [],
   "source": [
    "generation_columns = [c for c in df.columns if \"gen_\" in c]"
   ]
  },
  {
   "cell_type": "code",
   "execution_count": null,
   "metadata": {},
   "outputs": [],
   "source": [
    "df[\"total_generation\"] = df[generation_columns].sum(axis=1)\n",
    "df[\"unmet_demand\"] = df[\"total_demand\"] - df[\"total_generation\"]"
   ]
  },
  {
   "cell_type": "code",
   "execution_count": null,
   "metadata": {},
   "outputs": [],
   "source": [
    "for cname in sorted(generation_columns):\n",
    "    px.line(df, x=\"elexm_utc\", y=cname, title=cname)\n",
    "\n",
    "px.line(df, x=\"elexm_utc\", y=\"total_generation\", title=\"Total Generation\")\n",
    "px.line(df, x=\"elexm_utc\", y=\"total_demand\", title=\"Total Demand\")\n",
    "px.line(df, x=\"elexm_utc\", y=\"unmet_demand\", title=\"Total Demand - Total Generation\")"
   ]
  },
  {
   "cell_type": "markdown",
   "metadata": {},
   "source": [
    "Insights:\n",
    "\n",
    "* I would have expected the total generation to add up to the same as the total demand. The fact that this is not the case make me think that I  might be misunderstanding the total demand or how to calculate the total generation. In particular, I am not sure how the NGEM data plays into the numbers here. As far as I understand the NGEM data is about energy-transport/exchange with the Netherlands. However, it is not clear to me how the two embedded contributions play into the equation.\n",
    "* "
   ]
  },
  {
   "cell_type": "code",
   "execution_count": null,
   "metadata": {},
   "outputs": [],
   "source": [
    "prices = pd.read_csv(DATAFOLDER / \"raw\" / \"electricity-prices-day-a.csv\", parse_dates=True)\n",
    "prices.columns = [\"day\", \"price\"]\n",
    "prices = prices[prices[\"day\"] > \"2018-01-01\"]\n",
    "\n",
    "prices.head()"
   ]
  },
  {
   "cell_type": "code",
   "execution_count": null,
   "metadata": {},
   "outputs": [],
   "source": [
    "px.line(prices, x=\"day\", y=\"price\")"
   ]
  },
  {
   "cell_type": "markdown",
   "metadata": {},
   "source": [
    "## Predicting Demand"
   ]
  },
  {
   "cell_type": "code",
   "execution_count": null,
   "metadata": {},
   "outputs": [],
   "source": [
    "df[\"month\"] = df[\"elexm_settlement_date\"].map(lambda x: x.split(\"-\")[1])"
   ]
  },
  {
   "cell_type": "code",
   "execution_count": null,
   "metadata": {},
   "outputs": [],
   "source": [
    "forecast = (\n",
    "    df[df[\"elexm_settlement_date\"].map(lambda x: x.split(\"-\")[0]) < \"2022\"]\n",
    "    .groupby([\"month\", \"elexm_settlement_period\"])[[\"total_demand\"]]\n",
    "    .mean()\n",
    ")\n",
    "forecast"
   ]
  },
  {
   "cell_type": "code",
   "execution_count": null,
   "metadata": {},
   "outputs": [],
   "source": [
    "df = (\n",
    "    df.set_index([\"month\", \"elexm_settlement_period\"])\n",
    "    .join(forecast, rsuffix=\"_forecast\")\n",
    "    .reset_index()\n",
    ")\n",
    "df.head()\n",
    "df.shape"
   ]
  },
  {
   "cell_type": "code",
   "execution_count": null,
   "metadata": {},
   "outputs": [],
   "source": [
    "px.line(\n",
    "    df.sort_values(by=[\"elexm_settlement_date\", \"elexm_settlement_period\"]),\n",
    "    x=\"elexm_utc\",\n",
    "    y=[\"total_demand\", \"total_demand_forecast\"],\n",
    ")"
   ]
  }
 ],
 "metadata": {
  "kernelspec": {
   "display_name": "Python 3 (ipykernel)",
   "language": "python",
   "name": "python3"
  },
  "language_info": {
   "codemirror_mode": {
    "name": "ipython",
    "version": 3
   },
   "file_extension": ".py",
   "mimetype": "text/x-python",
   "name": "python",
   "nbconvert_exporter": "python",
   "pygments_lexer": "ipython3",
   "version": "3.10.12"
  }
 },
 "nbformat": 4,
 "nbformat_minor": 4
}
